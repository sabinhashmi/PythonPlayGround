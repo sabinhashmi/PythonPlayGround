{
 "metadata": {
  "language_info": {
   "codemirror_mode": {
    "name": "ipython",
    "version": 3
   },
   "file_extension": ".py",
   "mimetype": "text/x-python",
   "name": "python",
   "nbconvert_exporter": "python",
   "pygments_lexer": "ipython3",
   "version": "3.9.1-final"
  },
  "orig_nbformat": 2,
  "kernelspec": {
   "name": "python3",
   "display_name": "Python 3.9.1 64-bit ('machine')",
   "metadata": {
    "interpreter": {
     "hash": "df94e927b4b03adfd3f3b2a92fc7320783082842e8749cb8be0262b9316c59f3"
    }
   }
  }
 },
 "nbformat": 4,
 "nbformat_minor": 2,
 "cells": [
  {
   "cell_type": "code",
   "execution_count": 1,
   "metadata": {},
   "outputs": [],
   "source": [
    "import numpy as np \n",
    "import pandas as pd\n",
    "np.random.seed(1)"
   ]
  },
  {
   "cell_type": "code",
   "execution_count": 2,
   "metadata": {},
   "outputs": [],
   "source": [
    "def random_sequence_generator():\n",
    "    \n",
    "    sequence=[]\n",
    "    final_sequence=[]\n",
    "\n",
    "    for count in range(750):\n",
    "        \n",
    "        num1=[1,2,3,4,5,6,7,8,9,10]\n",
    "        num2=[8,9,5,7,11,6,12,4,3,10]\n",
    "        num3=[20,17,12,13,16,15,14,19,22,25]\n",
    "        num4=[22,27,21,26,19,24,28,25,17,16]\n",
    "        num5=[29,28,35,33,32,31,30,26,27,34]\n",
    "        num6=[37,36,33,41,39,42,32,34,38,40]\n",
    "        num7=[45,44,43,40,42,41,39,38,37,35]\n",
    "\n",
    "\n",
    "        number_sequence=np.array([np.random.choice(num1),np.random.choice(num2),np.random.choice(num3),np.random.choice(num4),np.random.choice(num5),np.random.choice(num6),np.random.choice(num7)])\n",
    "\n",
    "\n",
    "        if sum(number_sequence)<=180 and sum(number_sequence)>=120:\n",
    "            if np.count_nonzero(number_sequence%2==0)==3 or np.count_nonzero(number_sequence%2==0)==4:\n",
    "                \n",
    "                sequence.append(number_sequence)\n",
    "            \n",
    "            else:\n",
    "                pass\n",
    "\n",
    "        else:\n",
    "            pass\n",
    "\n",
    "    for i in sequence:\n",
    "\n",
    "        \n",
    "        unique_sequence=[]\n",
    "        \n",
    "        for j in i:\n",
    "            \n",
    "            if j not in unique_sequence:\n",
    "                unique_sequence.append(j)\n",
    "            \n",
    "        if len(unique_sequence)==7:\n",
    "            final_sequence.append(unique_sequence)\n",
    "\n",
    "    return final_sequence"
   ]
  },
  {
   "cell_type": "code",
   "execution_count": 3,
   "metadata": {},
   "outputs": [],
   "source": [
    "Lottery_Lots=random_sequence_generator()\n",
    "sequence_pool=pd.DataFrame(Lottery_Lots,\n",
    "                columns=[['Number-1','Number-2','Number-3','Number-4','Number-5',\n",
    "                'Number-6','Number-7']])\n",
    "\n",
    "even_series=np.count_nonzero(sequence_pool%2==0,axis=1)\n",
    "odd_series=np.count_nonzero(sequence_pool%2!=0,axis=1)\n",
    "\n",
    "sequence_pool['Even']=even_series\n",
    "sequence_pool['Odd']=odd_series\n",
    "\n",
    "sequence_pool['Sum']=sequence_pool.sum(axis=1)"
   ]
  },
  {
   "cell_type": "code",
   "execution_count": 4,
   "metadata": {},
   "outputs": [
    {
     "output_type": "execute_result",
     "data": {
      "text/plain": [
       "(305, 10)"
      ]
     },
     "metadata": {},
     "execution_count": 4
    }
   ],
   "source": [
    "sequence_pool.shape"
   ]
  },
  {
   "cell_type": "code",
   "execution_count": 5,
   "metadata": {},
   "outputs": [],
   "source": [
    "sequence_pool.to_excel('FinalSequence.xlsx')"
   ]
  },
  {
   "cell_type": "code",
   "execution_count": null,
   "metadata": {},
   "outputs": [],
   "source": []
  }
 ]
}