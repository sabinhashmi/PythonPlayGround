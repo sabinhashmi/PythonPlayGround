{
 "metadata": {
  "language_info": {
   "codemirror_mode": {
    "name": "ipython",
    "version": 3
   },
   "file_extension": ".py",
   "mimetype": "text/x-python",
   "name": "python",
   "nbconvert_exporter": "python",
   "pygments_lexer": "ipython3",
   "version": "3.9.1-final"
  },
  "orig_nbformat": 2,
  "kernelspec": {
   "name": "python3",
   "display_name": "Python 3.9.1 64-bit ('machine')",
   "metadata": {
    "interpreter": {
     "hash": "df94e927b4b03adfd3f3b2a92fc7320783082842e8749cb8be0262b9316c59f3"
    }
   }
  }
 },
 "nbformat": 4,
 "nbformat_minor": 2,
 "cells": [
  {
   "cell_type": "code",
   "execution_count": 2,
   "metadata": {},
   "outputs": [],
   "source": [
    "import pandas as pd\n",
    "import numpy as np \n",
    "import matplotlib.pyplot as plt \n",
    "import seaborn as sns\n",
    "from sklearn.model_selection import train_test_split\n",
    "from sklearn.metrics import mean_squared_error\n",
    "from sklearn.ensemble import RandomForestRegressor\n",
    "sns.set_theme(style=\"darkgrid\")"
   ]
  },
  {
   "cell_type": "code",
   "execution_count": 3,
   "metadata": {},
   "outputs": [
    {
     "output_type": "stream",
     "name": "stdout",
     "text": [
      "Data Dimension is (418, 35)\n"
     ]
    }
   ],
   "source": [
    "original_data=pd.read_excel('/Users/sabinhashmi/Code Hub/CodeScripts/OzLottery2/Powerball.xlsx')\n",
    "original_data.drop(['Date'],axis=1,inplace=True)\n",
    "print(f\"Data Dimension is {original_data.shape}\")"
   ]
  },
  {
   "cell_type": "code",
   "execution_count": 4,
   "metadata": {},
   "outputs": [],
   "source": [
    "data=original_data.iloc[:,1:9]\n",
    "data=data.dropna(how='any').rename(columns={'Winning Number 1' : 1,'Powerball ':'Powerball'}).astype('int')\n",
    "data['Sum']=data.drop('Powerball',axis=1).sum(axis=1)"
   ]
  },
  {
   "cell_type": "code",
   "execution_count": 5,
   "metadata": {},
   "outputs": [],
   "source": [
    "x=data.drop('Powerball',axis=1)\n",
    "y=data['Powerball']"
   ]
  },
  {
   "cell_type": "code",
   "execution_count": 6,
   "metadata": {},
   "outputs": [],
   "source": [
    "x_train,x_test,y_train,y_test=train_test_split(x,y,test_size=0.2,random_state=1)"
   ]
  },
  {
   "cell_type": "code",
   "execution_count": 7,
   "metadata": {},
   "outputs": [
    {
     "output_type": "stream",
     "name": "stdout",
     "text": [
      "7.546253075790061\n"
     ]
    }
   ],
   "source": [
    "rf=RandomForestRegressor()\n",
    "rf.fit(x_train,y_train)\n",
    "y_predict=rf.predict(x_test)\n",
    "print(np.sqrt(mean_squared_error(y_test,y_predict)))"
   ]
  },
  {
   "cell_type": "code",
   "execution_count": 8,
   "metadata": {},
   "outputs": [
    {
     "output_type": "execute_result",
     "data": {
      "text/plain": [
       "     Test  Predict  Difference\n",
       "14      2     10.0        -8.0\n",
       "98      2      8.0        -6.0\n",
       "75     19     10.0         9.0\n",
       "16     20     13.0         7.0\n",
       "131    20      6.0        14.0\n",
       "56     17      7.0        10.0\n",
       "141    16      7.0         9.0\n",
       "44     10     10.0         0.0\n",
       "29     19     11.0         8.0\n",
       "120    20      6.0        14.0\n",
       "94     19      9.0        10.0\n",
       "5      11      9.0         2.0\n",
       "102     7     10.0        -3.0\n",
       "51      2      9.0        -7.0\n",
       "78     13     10.0         3.0\n",
       "42     15     10.0         5.0\n",
       "92      7      7.0         0.0\n",
       "66      1     10.0        -9.0\n",
       "31      1     10.0        -9.0\n",
       "35     19     14.0         5.0\n",
       "90      3     12.0        -9.0\n",
       "84      4     14.0       -10.0\n",
       "77      2      8.0        -6.0\n",
       "40     19      7.0        12.0\n",
       "125    13      7.0         6.0\n",
       "99      9      8.0         1.0\n",
       "33      5     10.0        -5.0\n",
       "19     10     10.0         0.0\n",
       "73     10      8.0         2.0\n",
       "147    14     12.0         2.0\n",
       "91     20      8.0        12.0"
      ],
      "text/html": "<div>\n<style scoped>\n    .dataframe tbody tr th:only-of-type {\n        vertical-align: middle;\n    }\n\n    .dataframe tbody tr th {\n        vertical-align: top;\n    }\n\n    .dataframe thead th {\n        text-align: right;\n    }\n</style>\n<table border=\"1\" class=\"dataframe\">\n  <thead>\n    <tr style=\"text-align: right;\">\n      <th></th>\n      <th>Test</th>\n      <th>Predict</th>\n      <th>Difference</th>\n    </tr>\n  </thead>\n  <tbody>\n    <tr>\n      <th>14</th>\n      <td>2</td>\n      <td>10.0</td>\n      <td>-8.0</td>\n    </tr>\n    <tr>\n      <th>98</th>\n      <td>2</td>\n      <td>8.0</td>\n      <td>-6.0</td>\n    </tr>\n    <tr>\n      <th>75</th>\n      <td>19</td>\n      <td>10.0</td>\n      <td>9.0</td>\n    </tr>\n    <tr>\n      <th>16</th>\n      <td>20</td>\n      <td>13.0</td>\n      <td>7.0</td>\n    </tr>\n    <tr>\n      <th>131</th>\n      <td>20</td>\n      <td>6.0</td>\n      <td>14.0</td>\n    </tr>\n    <tr>\n      <th>56</th>\n      <td>17</td>\n      <td>7.0</td>\n      <td>10.0</td>\n    </tr>\n    <tr>\n      <th>141</th>\n      <td>16</td>\n      <td>7.0</td>\n      <td>9.0</td>\n    </tr>\n    <tr>\n      <th>44</th>\n      <td>10</td>\n      <td>10.0</td>\n      <td>0.0</td>\n    </tr>\n    <tr>\n      <th>29</th>\n      <td>19</td>\n      <td>11.0</td>\n      <td>8.0</td>\n    </tr>\n    <tr>\n      <th>120</th>\n      <td>20</td>\n      <td>6.0</td>\n      <td>14.0</td>\n    </tr>\n    <tr>\n      <th>94</th>\n      <td>19</td>\n      <td>9.0</td>\n      <td>10.0</td>\n    </tr>\n    <tr>\n      <th>5</th>\n      <td>11</td>\n      <td>9.0</td>\n      <td>2.0</td>\n    </tr>\n    <tr>\n      <th>102</th>\n      <td>7</td>\n      <td>10.0</td>\n      <td>-3.0</td>\n    </tr>\n    <tr>\n      <th>51</th>\n      <td>2</td>\n      <td>9.0</td>\n      <td>-7.0</td>\n    </tr>\n    <tr>\n      <th>78</th>\n      <td>13</td>\n      <td>10.0</td>\n      <td>3.0</td>\n    </tr>\n    <tr>\n      <th>42</th>\n      <td>15</td>\n      <td>10.0</td>\n      <td>5.0</td>\n    </tr>\n    <tr>\n      <th>92</th>\n      <td>7</td>\n      <td>7.0</td>\n      <td>0.0</td>\n    </tr>\n    <tr>\n      <th>66</th>\n      <td>1</td>\n      <td>10.0</td>\n      <td>-9.0</td>\n    </tr>\n    <tr>\n      <th>31</th>\n      <td>1</td>\n      <td>10.0</td>\n      <td>-9.0</td>\n    </tr>\n    <tr>\n      <th>35</th>\n      <td>19</td>\n      <td>14.0</td>\n      <td>5.0</td>\n    </tr>\n    <tr>\n      <th>90</th>\n      <td>3</td>\n      <td>12.0</td>\n      <td>-9.0</td>\n    </tr>\n    <tr>\n      <th>84</th>\n      <td>4</td>\n      <td>14.0</td>\n      <td>-10.0</td>\n    </tr>\n    <tr>\n      <th>77</th>\n      <td>2</td>\n      <td>8.0</td>\n      <td>-6.0</td>\n    </tr>\n    <tr>\n      <th>40</th>\n      <td>19</td>\n      <td>7.0</td>\n      <td>12.0</td>\n    </tr>\n    <tr>\n      <th>125</th>\n      <td>13</td>\n      <td>7.0</td>\n      <td>6.0</td>\n    </tr>\n    <tr>\n      <th>99</th>\n      <td>9</td>\n      <td>8.0</td>\n      <td>1.0</td>\n    </tr>\n    <tr>\n      <th>33</th>\n      <td>5</td>\n      <td>10.0</td>\n      <td>-5.0</td>\n    </tr>\n    <tr>\n      <th>19</th>\n      <td>10</td>\n      <td>10.0</td>\n      <td>0.0</td>\n    </tr>\n    <tr>\n      <th>73</th>\n      <td>10</td>\n      <td>8.0</td>\n      <td>2.0</td>\n    </tr>\n    <tr>\n      <th>147</th>\n      <td>14</td>\n      <td>12.0</td>\n      <td>2.0</td>\n    </tr>\n    <tr>\n      <th>91</th>\n      <td>20</td>\n      <td>8.0</td>\n      <td>12.0</td>\n    </tr>\n  </tbody>\n</table>\n</div>"
     },
     "metadata": {},
     "execution_count": 8
    }
   ],
   "source": [
    "values=[]\n",
    "data_01=pd.DataFrame(values,columns=['Test'])\n",
    "\n",
    "data_01['Test']=y_test\n",
    "data_01['Predict']=y_predict.round()\n",
    "\n",
    "data_01['Difference']=data_01['Test']-data_01['Predict']\n",
    "data_01"
   ]
  },
  {
   "cell_type": "code",
   "execution_count": 12,
   "metadata": {},
   "outputs": [],
   "source": [
    "num1=[1,2,3,4,5,6,7,8,9,10]\n",
    "num2=[7,5,6,14,3,4,9,10,8,12]\n",
    "num3=[9,17,11,14,8,10,16,18,7,15]\n",
    "num4=[17,16,20,18,11,13,24,12,14,19]\n",
    "num5=[22,21,17,19,26,27,23,24,25,29]\n",
    "num6=[28,30,23,29,25,27,24,31,26,32]\n",
    "num7=[35,32,33,34,31,29,30,27,28,25]"
   ]
  },
  {
   "cell_type": "code",
   "execution_count": 45,
   "metadata": {},
   "outputs": [],
   "source": [
    "# test_data=data.drop(['Powerball','Sum'],axis=1)"
   ]
  },
  {
   "cell_type": "code",
   "execution_count": 55,
   "metadata": {},
   "outputs": [],
   "source": [
    "\n",
    "# list_01=[]\n",
    "\n",
    "# for i in range(test_data.shape[0]):\n",
    "\n",
    "#     list_01.append(sorted(test_data.values[i]))\n",
    "\n",
    "# data_02=pd.DataFrame(list_01,columns=[1,2,3,4,5,6,7])\n",
    "\n",
    "# data_02"
   ]
  },
  {
   "cell_type": "code",
   "execution_count": null,
   "metadata": {},
   "outputs": [],
   "source": []
  }
 ]
}