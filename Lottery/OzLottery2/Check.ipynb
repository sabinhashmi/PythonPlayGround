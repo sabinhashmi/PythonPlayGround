{
 "metadata": {
  "language_info": {
   "codemirror_mode": {
    "name": "ipython",
    "version": 3
   },
   "file_extension": ".py",
   "mimetype": "text/x-python",
   "name": "python",
   "nbconvert_exporter": "python",
   "pygments_lexer": "ipython3",
   "version": "3.9.1-final"
  },
  "orig_nbformat": 2,
  "kernelspec": {
   "name": "python3",
   "display_name": "Python 3.9.1 64-bit ('machine')",
   "metadata": {
    "interpreter": {
     "hash": "df94e927b4b03adfd3f3b2a92fc7320783082842e8749cb8be0262b9316c59f3"
    }
   }
  }
 },
 "nbformat": 4,
 "nbformat_minor": 2,
 "cells": [
  {
   "cell_type": "code",
   "execution_count": 2,
   "metadata": {},
   "outputs": [],
   "source": [
    "import pandas as pd"
   ]
  },
  {
   "cell_type": "code",
   "execution_count": 3,
   "metadata": {},
   "outputs": [],
   "source": [
    "data=pd.read_csv('/Users/sabinhashmi/Code Hub/CodeScripts/OzLottery2/6kSequence.csv')"
   ]
  },
  {
   "cell_type": "code",
   "execution_count": 4,
   "metadata": {},
   "outputs": [
    {
     "output_type": "execute_result",
     "data": {
      "text/plain": [
       "   Unnamed: 0  Number-1  Number-2  Number-3  Number-4  Number-5  Number-6  \\\n",
       "0           0         6        12        15        16        19        27   \n",
       "1         447         8         9        10        20        24        29   \n",
       "2         662         1         7        11        20        26        31   \n",
       "3         699         9        14        17        18        22        27   \n",
       "4         754         3         4        16        20        26        29   \n",
       "\n",
       "   Number-7  Sum  \n",
       "0        29  124  \n",
       "1        35  135  \n",
       "2        34  130  \n",
       "3        28  135  \n",
       "4        33  131  "
      ],
      "text/html": "<div>\n<style scoped>\n    .dataframe tbody tr th:only-of-type {\n        vertical-align: middle;\n    }\n\n    .dataframe tbody tr th {\n        vertical-align: top;\n    }\n\n    .dataframe thead th {\n        text-align: right;\n    }\n</style>\n<table border=\"1\" class=\"dataframe\">\n  <thead>\n    <tr style=\"text-align: right;\">\n      <th></th>\n      <th>Unnamed: 0</th>\n      <th>Number-1</th>\n      <th>Number-2</th>\n      <th>Number-3</th>\n      <th>Number-4</th>\n      <th>Number-5</th>\n      <th>Number-6</th>\n      <th>Number-7</th>\n      <th>Sum</th>\n    </tr>\n  </thead>\n  <tbody>\n    <tr>\n      <th>0</th>\n      <td>0</td>\n      <td>6</td>\n      <td>12</td>\n      <td>15</td>\n      <td>16</td>\n      <td>19</td>\n      <td>27</td>\n      <td>29</td>\n      <td>124</td>\n    </tr>\n    <tr>\n      <th>1</th>\n      <td>447</td>\n      <td>8</td>\n      <td>9</td>\n      <td>10</td>\n      <td>20</td>\n      <td>24</td>\n      <td>29</td>\n      <td>35</td>\n      <td>135</td>\n    </tr>\n    <tr>\n      <th>2</th>\n      <td>662</td>\n      <td>1</td>\n      <td>7</td>\n      <td>11</td>\n      <td>20</td>\n      <td>26</td>\n      <td>31</td>\n      <td>34</td>\n      <td>130</td>\n    </tr>\n    <tr>\n      <th>3</th>\n      <td>699</td>\n      <td>9</td>\n      <td>14</td>\n      <td>17</td>\n      <td>18</td>\n      <td>22</td>\n      <td>27</td>\n      <td>28</td>\n      <td>135</td>\n    </tr>\n    <tr>\n      <th>4</th>\n      <td>754</td>\n      <td>3</td>\n      <td>4</td>\n      <td>16</td>\n      <td>20</td>\n      <td>26</td>\n      <td>29</td>\n      <td>33</td>\n      <td>131</td>\n    </tr>\n  </tbody>\n</table>\n</div>"
     },
     "metadata": {},
     "execution_count": 4
    }
   ],
   "source": [
    "data.head()"
   ]
  },
  {
   "cell_type": "code",
   "execution_count": 5,
   "metadata": {},
   "outputs": [
    {
     "output_type": "execute_result",
     "data": {
      "text/plain": [
       "(6373, 9)"
      ]
     },
     "metadata": {},
     "execution_count": 5
    }
   ],
   "source": [
    "data.shape"
   ]
  },
  {
   "cell_type": "code",
   "execution_count": 9,
   "metadata": {},
   "outputs": [],
   "source": [
    "data=data.drop(['Unnamed: 0','Sum'],axis=1)"
   ]
  },
  {
   "cell_type": "code",
   "execution_count": 15,
   "metadata": {},
   "outputs": [
    {
     "output_type": "stream",
     "name": "stdout",
     "text": [
      "      Number-1  Number-2  Number-3  Number-4  Number-5  Number-6  Number-7\n0          6.0       NaN       NaN      16.0       NaN       NaN      29.0\n1          NaN       NaN       NaN       NaN       NaN      29.0      35.0\n3          NaN       NaN       NaN      18.0       NaN       NaN       NaN\n4          NaN       NaN      16.0       NaN       NaN      29.0      33.0\n7          NaN       NaN       NaN      18.0       NaN       NaN      35.0\n...        ...       ...       ...       ...       ...       ...       ...\n6368       NaN       NaN       NaN       NaN       NaN       NaN      29.0\n6369       NaN       NaN      16.0       NaN       NaN       NaN       NaN\n6370       NaN       NaN       NaN      18.0       NaN       NaN      33.0\n6371       NaN       NaN      16.0       NaN       NaN       NaN      29.0\n6372       NaN       NaN       NaN       NaN       NaN       NaN      29.0\n\n[5180 rows x 7 columns]\n"
     ]
    }
   ],
   "source": [
    "old_sequence=[18,30,16,29,6,33,35]\n",
    "print(data[data.isin(old_sequence)==True].dropna(how='any'))"
   ]
  },
  {
   "cell_type": "code",
   "execution_count": 17,
   "metadata": {},
   "outputs": [],
   "source": [
    "data=pd.read_excel('/Users/sabinhashmi/Code Hub/CodeScripts/OzLottery2/Powerball.xlsx')"
   ]
  },
  {
   "cell_type": "code",
   "execution_count": 19,
   "metadata": {},
   "outputs": [
    {
     "output_type": "execute_result",
     "data": {
      "text/plain": [
       "19    30\n",
       "2     28\n",
       "5     25\n",
       "3     24\n",
       "7     24\n",
       "12    24\n",
       "11    23\n",
       "9     22\n",
       "10    22\n",
       "18    21\n",
       "6     20\n",
       "13    20\n",
       "15    20\n",
       "4     19\n",
       "17    18\n",
       "20    18\n",
       "8     18\n",
       "1     16\n",
       "14    14\n",
       "16    12\n",
       "Name: Powerball , dtype: int64"
      ]
     },
     "metadata": {},
     "execution_count": 19
    }
   ],
   "source": [
    "data['Powerball '].value_counts()"
   ]
  },
  {
   "cell_type": "code",
   "execution_count": null,
   "metadata": {},
   "outputs": [],
   "source": []
  }
 ]
}