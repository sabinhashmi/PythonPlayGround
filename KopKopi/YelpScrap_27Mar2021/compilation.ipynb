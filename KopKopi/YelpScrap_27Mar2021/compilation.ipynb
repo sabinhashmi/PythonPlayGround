{
 "metadata": {
  "language_info": {
   "codemirror_mode": {
    "name": "ipython",
    "version": 3
   },
   "file_extension": ".py",
   "mimetype": "text/x-python",
   "name": "python",
   "nbconvert_exporter": "python",
   "pygments_lexer": "ipython3",
   "version": "3.8.8-final"
  },
  "orig_nbformat": 2,
  "kernelspec": {
   "name": "python3",
   "display_name": "Python 3.8.8 64-bit ('machine': conda)",
   "metadata": {
    "interpreter": {
     "hash": "913100671ad28b15bc9d50bd55e015dd0bcf0bbd3549b8dadef523a1f6e5c04b"
    }
   }
  }
 },
 "nbformat": 4,
 "nbformat_minor": 2,
 "cells": [
  {
   "cell_type": "code",
   "execution_count": 1,
   "metadata": {},
   "outputs": [],
   "source": [
    "import pandas as pd\n",
    "import numpy as np\n",
    "from pathlib import Path\n",
    "path=Path('/Users/sabinhashmi/Code Hub/KopKopi Works/YelpScrap_27Mar2021')"
   ]
  },
  {
   "cell_type": "code",
   "execution_count": 2,
   "metadata": {
    "tags": []
   },
   "outputs": [],
   "source": [
    "list_01=[]\n",
    "for files in path.glob('*.csv'):\n",
    "    data=pd.read_csv(files,index_col=None,header=0)\n",
    "    list_01.append(data)\n",
    "\n",
    "data=pd.concat(list_01,ignore_index=True,axis=0)\n",
    "    "
   ]
  },
  {
   "cell_type": "code",
   "execution_count": 3,
   "metadata": {},
   "outputs": [
    {
     "output_type": "execute_result",
     "data": {
      "text/plain": [
       "  web-scraper-order                              web-scraper-start-url  link  \\\n",
       "0   1616845207-1297  https://www.yelp.pl/search?find_desc=cafe&find...   NaN   \n",
       "1   1616845183-1240  https://www.yelp.pl/search?find_desc=cafe&find...   NaN   \n",
       "2   1616845183-1238  https://www.yelp.pl/search?find_desc=cafe&find...   NaN   \n",
       "3   1616845183-1235  https://www.yelp.pl/search?find_desc=cafe&find...   NaN   \n",
       "4   1616845158-1156  https://www.yelp.pl/search?find_desc=cafe&find...   NaN   \n",
       "\n",
       "                                           link-href  \\\n",
       "0  https://www.yelp.pl/search?find_desc=cafe&find...   \n",
       "1  https://www.yelp.pl/search?find_desc=cafe&find...   \n",
       "2  https://www.yelp.pl/search?find_desc=cafe&find...   \n",
       "3  https://www.yelp.pl/search?find_desc=cafe&find...   \n",
       "4                                                NaN   \n",
       "\n",
       "                         name        number        street_address street_town  \\\n",
       "0           90. Cafe Pralinka  61 667 15 10      ul. Pówiejska 42         NaN   \n",
       "1              49 . Emma Cafe  61 852 58 98  ul. Kościuszki 71/73         NaN   \n",
       "2  47 . Hort Cafe BS Barańscy           NaN          Głogowska 29         NaN   \n",
       "3         44 . Pracownia Cafe  50 813 16 64          ul. Woźna 17         NaN   \n",
       "4             5 . Cafe Ryczka  78 680 64 06          ul. Polna 27         NaN   \n",
       "\n",
       "                                  Cuisine  \n",
       "0                                     NaN  \n",
       "1                  Coffee and tea , Cafes  \n",
       "2                         Bakeries , Bars  \n",
       "3                      Vegan , Vegetarian  \n",
       "4  Kawiarnie, Ciastka, Śniadanie i brunch  "
      ],
      "text/html": "<div>\n<style scoped>\n    .dataframe tbody tr th:only-of-type {\n        vertical-align: middle;\n    }\n\n    .dataframe tbody tr th {\n        vertical-align: top;\n    }\n\n    .dataframe thead th {\n        text-align: right;\n    }\n</style>\n<table border=\"1\" class=\"dataframe\">\n  <thead>\n    <tr style=\"text-align: right;\">\n      <th></th>\n      <th>web-scraper-order</th>\n      <th>web-scraper-start-url</th>\n      <th>link</th>\n      <th>link-href</th>\n      <th>name</th>\n      <th>number</th>\n      <th>street_address</th>\n      <th>street_town</th>\n      <th>Cuisine</th>\n    </tr>\n  </thead>\n  <tbody>\n    <tr>\n      <th>0</th>\n      <td>1616845207-1297</td>\n      <td>https://www.yelp.pl/search?find_desc=cafe&amp;find...</td>\n      <td>NaN</td>\n      <td>https://www.yelp.pl/search?find_desc=cafe&amp;find...</td>\n      <td>90. Cafe Pralinka</td>\n      <td>61 667 15 10</td>\n      <td>ul. Pówiejska 42</td>\n      <td>NaN</td>\n      <td>NaN</td>\n    </tr>\n    <tr>\n      <th>1</th>\n      <td>1616845183-1240</td>\n      <td>https://www.yelp.pl/search?find_desc=cafe&amp;find...</td>\n      <td>NaN</td>\n      <td>https://www.yelp.pl/search?find_desc=cafe&amp;find...</td>\n      <td>49 . Emma Cafe</td>\n      <td>61 852 58 98</td>\n      <td>ul. Kościuszki 71/73</td>\n      <td>NaN</td>\n      <td>Coffee and tea , Cafes</td>\n    </tr>\n    <tr>\n      <th>2</th>\n      <td>1616845183-1238</td>\n      <td>https://www.yelp.pl/search?find_desc=cafe&amp;find...</td>\n      <td>NaN</td>\n      <td>https://www.yelp.pl/search?find_desc=cafe&amp;find...</td>\n      <td>47 . Hort Cafe BS Barańscy</td>\n      <td>NaN</td>\n      <td>Głogowska 29</td>\n      <td>NaN</td>\n      <td>Bakeries , Bars</td>\n    </tr>\n    <tr>\n      <th>3</th>\n      <td>1616845183-1235</td>\n      <td>https://www.yelp.pl/search?find_desc=cafe&amp;find...</td>\n      <td>NaN</td>\n      <td>https://www.yelp.pl/search?find_desc=cafe&amp;find...</td>\n      <td>44 . Pracownia Cafe</td>\n      <td>50 813 16 64</td>\n      <td>ul. Woźna 17</td>\n      <td>NaN</td>\n      <td>Vegan , Vegetarian</td>\n    </tr>\n    <tr>\n      <th>4</th>\n      <td>1616845158-1156</td>\n      <td>https://www.yelp.pl/search?find_desc=cafe&amp;find...</td>\n      <td>NaN</td>\n      <td>NaN</td>\n      <td>5 . Cafe Ryczka</td>\n      <td>78 680 64 06</td>\n      <td>ul. Polna 27</td>\n      <td>NaN</td>\n      <td>Kawiarnie, Ciastka, Śniadanie i brunch</td>\n    </tr>\n  </tbody>\n</table>\n</div>"
     },
     "metadata": {},
     "execution_count": 3
    }
   ],
   "source": [
    "data.head()"
   ]
  },
  {
   "cell_type": "code",
   "execution_count": 4,
   "metadata": {},
   "outputs": [],
   "source": [
    "data.drop(['link','link-href','web-scraper-order','web-scraper-start-url'],axis=1,inplace=True)"
   ]
  },
  {
   "cell_type": "code",
   "execution_count": 5,
   "metadata": {},
   "outputs": [],
   "source": [
    "data=data.rename(columns={'name':'Cafe_Name','number':'Contact_Number','street_address':'Street_Address','street_town':'Town'})"
   ]
  },
  {
   "cell_type": "code",
   "execution_count": 6,
   "metadata": {},
   "outputs": [
    {
     "output_type": "execute_result",
     "data": {
      "text/plain": [
       "                    Cafe_Name Contact_Number        Street_Address Town  \\\n",
       "0           90. Cafe Pralinka   61 667 15 10      ul. Pówiejska 42  NaN   \n",
       "1              49 . Emma Cafe   61 852 58 98  ul. Kościuszki 71/73  NaN   \n",
       "2  47 . Hort Cafe BS Barańscy            NaN          Głogowska 29  NaN   \n",
       "3         44 . Pracownia Cafe   50 813 16 64          ul. Woźna 17  NaN   \n",
       "4             5 . Cafe Ryczka   78 680 64 06          ul. Polna 27  NaN   \n",
       "\n",
       "                                  Cuisine  \n",
       "0                                     NaN  \n",
       "1                  Coffee and tea , Cafes  \n",
       "2                         Bakeries , Bars  \n",
       "3                      Vegan , Vegetarian  \n",
       "4  Kawiarnie, Ciastka, Śniadanie i brunch  "
      ],
      "text/html": "<div>\n<style scoped>\n    .dataframe tbody tr th:only-of-type {\n        vertical-align: middle;\n    }\n\n    .dataframe tbody tr th {\n        vertical-align: top;\n    }\n\n    .dataframe thead th {\n        text-align: right;\n    }\n</style>\n<table border=\"1\" class=\"dataframe\">\n  <thead>\n    <tr style=\"text-align: right;\">\n      <th></th>\n      <th>Cafe_Name</th>\n      <th>Contact_Number</th>\n      <th>Street_Address</th>\n      <th>Town</th>\n      <th>Cuisine</th>\n    </tr>\n  </thead>\n  <tbody>\n    <tr>\n      <th>0</th>\n      <td>90. Cafe Pralinka</td>\n      <td>61 667 15 10</td>\n      <td>ul. Pówiejska 42</td>\n      <td>NaN</td>\n      <td>NaN</td>\n    </tr>\n    <tr>\n      <th>1</th>\n      <td>49 . Emma Cafe</td>\n      <td>61 852 58 98</td>\n      <td>ul. Kościuszki 71/73</td>\n      <td>NaN</td>\n      <td>Coffee and tea , Cafes</td>\n    </tr>\n    <tr>\n      <th>2</th>\n      <td>47 . Hort Cafe BS Barańscy</td>\n      <td>NaN</td>\n      <td>Głogowska 29</td>\n      <td>NaN</td>\n      <td>Bakeries , Bars</td>\n    </tr>\n    <tr>\n      <th>3</th>\n      <td>44 . Pracownia Cafe</td>\n      <td>50 813 16 64</td>\n      <td>ul. Woźna 17</td>\n      <td>NaN</td>\n      <td>Vegan , Vegetarian</td>\n    </tr>\n    <tr>\n      <th>4</th>\n      <td>5 . Cafe Ryczka</td>\n      <td>78 680 64 06</td>\n      <td>ul. Polna 27</td>\n      <td>NaN</td>\n      <td>Kawiarnie, Ciastka, Śniadanie i brunch</td>\n    </tr>\n  </tbody>\n</table>\n</div>"
     },
     "metadata": {},
     "execution_count": 6
    }
   ],
   "source": [
    "data.head()"
   ]
  },
  {
   "cell_type": "code",
   "execution_count": 7,
   "metadata": {
    "tags": []
   },
   "outputs": [],
   "source": [
    "cafe=[]\n",
    "for i in range(data.shape[0]):\n",
    "    cafe.append(data['Cafe_Name'].str.split('.\\xa0')[i][1])"
   ]
  },
  {
   "cell_type": "code",
   "execution_count": 8,
   "metadata": {},
   "outputs": [],
   "source": [
    "data.drop('Cafe_Name',axis=1)\n",
    "data['Cafe_Name']=cafe"
   ]
  },
  {
   "cell_type": "code",
   "execution_count": 9,
   "metadata": {},
   "outputs": [
    {
     "output_type": "execute_result",
     "data": {
      "text/plain": [
       "                                           Cafe_Name Contact_Number  \\\n",
       "0                                      Cafe Pralinka   61 667 15 10   \n",
       "1                                          Emma Cafe   61 852 58 98   \n",
       "2                              Hort Cafe BS Barańscy            NaN   \n",
       "3                                     Pracownia Cafe   50 813 16 64   \n",
       "4                                        Cafe Ryczka   78 680 64 06   \n",
       "5  Vogue Cafe Restaurant Piechocka Elżbieta Piech...            NaN   \n",
       "6                                         Babki Cafe   69 740 55 58   \n",
       "7                                       Cafe Ptasiek   61 639 32 70   \n",
       "8                                      Minister Cafe   79 252 88 09   \n",
       "9                              Cafe Bordo Restaurant   61 851 00 81   \n",
       "\n",
       "         Street_Address Town                                 Cuisine  \n",
       "0      ul. Pówiejska 42  NaN                                     NaN  \n",
       "1  ul. Kościuszki 71/73  NaN                  Coffee and tea , Cafes  \n",
       "2          Głogowska 29  NaN                         Bakeries , Bars  \n",
       "3          ul. Woźna 17  NaN                      Vegan , Vegetarian  \n",
       "4          ul. Polna 27  NaN  Kawiarnie, Ciastka, Śniadanie i brunch  \n",
       "5              May 3 46  NaN                                    Bars  \n",
       "6        Kramarska 21/2  NaN               Kawiarnie, Kawa i herbata  \n",
       "7         ul. Jewish 10  NaN                 $$ Cafes , Coffee & Tea  \n",
       "8     ul. Ratajczaka 34  NaN    $Kawiarnie, Puby, Śniadanie i brunch  \n",
       "9       ul. Żydowska 28  NaN                                $$ Cafes  "
      ],
      "text/html": "<div>\n<style scoped>\n    .dataframe tbody tr th:only-of-type {\n        vertical-align: middle;\n    }\n\n    .dataframe tbody tr th {\n        vertical-align: top;\n    }\n\n    .dataframe thead th {\n        text-align: right;\n    }\n</style>\n<table border=\"1\" class=\"dataframe\">\n  <thead>\n    <tr style=\"text-align: right;\">\n      <th></th>\n      <th>Cafe_Name</th>\n      <th>Contact_Number</th>\n      <th>Street_Address</th>\n      <th>Town</th>\n      <th>Cuisine</th>\n    </tr>\n  </thead>\n  <tbody>\n    <tr>\n      <th>0</th>\n      <td>Cafe Pralinka</td>\n      <td>61 667 15 10</td>\n      <td>ul. Pówiejska 42</td>\n      <td>NaN</td>\n      <td>NaN</td>\n    </tr>\n    <tr>\n      <th>1</th>\n      <td>Emma Cafe</td>\n      <td>61 852 58 98</td>\n      <td>ul. Kościuszki 71/73</td>\n      <td>NaN</td>\n      <td>Coffee and tea , Cafes</td>\n    </tr>\n    <tr>\n      <th>2</th>\n      <td>Hort Cafe BS Barańscy</td>\n      <td>NaN</td>\n      <td>Głogowska 29</td>\n      <td>NaN</td>\n      <td>Bakeries , Bars</td>\n    </tr>\n    <tr>\n      <th>3</th>\n      <td>Pracownia Cafe</td>\n      <td>50 813 16 64</td>\n      <td>ul. Woźna 17</td>\n      <td>NaN</td>\n      <td>Vegan , Vegetarian</td>\n    </tr>\n    <tr>\n      <th>4</th>\n      <td>Cafe Ryczka</td>\n      <td>78 680 64 06</td>\n      <td>ul. Polna 27</td>\n      <td>NaN</td>\n      <td>Kawiarnie, Ciastka, Śniadanie i brunch</td>\n    </tr>\n    <tr>\n      <th>5</th>\n      <td>Vogue Cafe Restaurant Piechocka Elżbieta Piech...</td>\n      <td>NaN</td>\n      <td>May 3 46</td>\n      <td>NaN</td>\n      <td>Bars</td>\n    </tr>\n    <tr>\n      <th>6</th>\n      <td>Babki Cafe</td>\n      <td>69 740 55 58</td>\n      <td>Kramarska 21/2</td>\n      <td>NaN</td>\n      <td>Kawiarnie, Kawa i herbata</td>\n    </tr>\n    <tr>\n      <th>7</th>\n      <td>Cafe Ptasiek</td>\n      <td>61 639 32 70</td>\n      <td>ul. Jewish 10</td>\n      <td>NaN</td>\n      <td>$$ Cafes , Coffee &amp; Tea</td>\n    </tr>\n    <tr>\n      <th>8</th>\n      <td>Minister Cafe</td>\n      <td>79 252 88 09</td>\n      <td>ul. Ratajczaka 34</td>\n      <td>NaN</td>\n      <td>$Kawiarnie, Puby, Śniadanie i brunch</td>\n    </tr>\n    <tr>\n      <th>9</th>\n      <td>Cafe Bordo Restaurant</td>\n      <td>61 851 00 81</td>\n      <td>ul. Żydowska 28</td>\n      <td>NaN</td>\n      <td>$$ Cafes</td>\n    </tr>\n  </tbody>\n</table>\n</div>"
     },
     "metadata": {},
     "execution_count": 9
    }
   ],
   "source": [
    "data.head(10)"
   ]
  },
  {
   "cell_type": "code",
   "execution_count": 10,
   "metadata": {},
   "outputs": [],
   "source": [
    "data.to_csv('1kCafes_Poland.csv')"
   ]
  }
 ]
}