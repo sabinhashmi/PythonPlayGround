{
 "metadata": {
  "language_info": {
   "codemirror_mode": {
    "name": "ipython",
    "version": 3
   },
   "file_extension": ".py",
   "mimetype": "text/x-python",
   "name": "python",
   "nbconvert_exporter": "python",
   "pygments_lexer": "ipython3",
   "version": "3.8.0-final"
  },
  "orig_nbformat": 2,
  "kernelspec": {
   "name": "python380jvsc74a57bd0f9101c4a97ecc5ed53aa2f315d98e6983c2aa9de5c6ce00cd88a504dceef4356",
   "display_name": "Python 3.8.0 64-bit ('KopKopi': conda)"
  }
 },
 "nbformat": 4,
 "nbformat_minor": 2,
 "cells": [
  {
   "cell_type": "code",
   "execution_count": 4,
   "metadata": {},
   "outputs": [],
   "source": [
    "import csv\n",
    "import json\n",
    "import urllib.request\n",
    "import urllib.parse\n",
    "from datetime import datetime\n",
    "\n",
    "bookmark_file = '<exported csv file name>'\n",
    "pinboard_token = '<your pinboard token>'\n",
    "\n",
    "def process_tags(csv_tags):\n",
    "\tjson_tags = json.loads('{ \"tags\": %s }' % csv_tags)\n",
    "\tjson_tags = json_tags['tags']\n",
    "\ttags = []\n",
    "\tfor json_tag in json_tags:\n",
    "\t\ttags.append(json_tag['tag'])\n",
    "\treturn tags\n",
    "\n",
    "with open(bookmark_file, newline='', encoding=\"utf8\") as csvfile:\n",
    "\tbookmarks = csv.reader(csvfile, delimiter=',', quotechar='\"')\n",
    "\tnext(bookmarks) # Skip header\n",
    "\tfor bookmark in bookmarks:\n",
    "\t\tbookmark_post_data = {\n",
    "\t\t\t  'url': bookmark[1], \n",
    "\t\t\t  'description': bookmark[0],\n",
    "\t\t\t  'dt': datetime.fromtimestamp(int(bookmark[3]), tz=None).isoformat(),\n",
    "\t\t\t  'shared': 'no' if 'privateArticle' in bookmark[4].split() else 'yes'\n",
    "\t\t\t}\n",
    "\t\ttags = process_tags(bookmark[2])\n",
    "\t\tif len(bookmark[2]) > 0:\n",
    "\t\t\tbookmark_post_data['tags'] = \",\".join(tags)\n",
    "\t\tbookmark_post_data['auth_token'] = pinboard_token\n",
    "\t\tprint(\"Adding %s\" % bookmark[1])\n",
    "\t\tparams = urllib.parse.urlencode(bookmark_post_data)\n",
    "\t\tf = urllib.request.urlopen(\"https://api.pinboard.in/v1/posts/add?%s\" % params)"
   ]
  },
  {
   "cell_type": "code",
   "execution_count": 7,
   "metadata": {},
   "outputs": [
    {
     "output_type": "execute_result",
     "data": {
      "text/plain": [
       "'\\n\\n\\n\\n\\nPage not found – PuneFirst\\n\\n\\n\\n\\n\\n\\n\\n\\n\\n\\n\\n\\n\\n\\n\\n\\n\\n\\n\\n\\n\\n\\n\\n\\n\\n\\n\\n\\n\\n\\n\\n\\n\\n\\n\\n\\n\\n\\n\\n\\nSkip to Content\\n\\n\\n\\n\\n\\n\\n\\n\\n\\n\\n\\n\\nHome\\nTravel Destinations\\nHangout Places\\nMore\\n\\nDining & Stay\\nHospitals\\nBlog\\nTop Rated\\n\\n\\n \\n\\n\\n\\n\\nPuneFirst\\nComplete directory of Pune\\n\\n\\n\\n\\n\\n\\n\\n\\nLooking for Something?Search anything and hit enter.\\n\\n\\n\\n\\n\\n\\n\\n\\n\\n\\n\\n\\nPuneFirst\\nComplete directory of Pune\\n\\n\\nHome\\nTravel Destinations\\nHangout Places\\nMore\\n\\nDining & Stay\\nHospitals\\nBlog\\nTop Rated\\n\\n\\n \\n\\n\\n\\n\\n\\n\\n\\nLooking for Something?Search anything and hit enter.\\n\\n\\n\\n\\n\\n\\n\\n\\n\\n\\n\\n\\nHome\\n\\n\\n404 Error - Page Not Found \\n\\n\\nUh-Oh...\\n\\nThe page you are looking for may have been moved, deleted, or possibly never existed.\\n\\n404\\nTake me to the home page\\nLooking for Something?Search anything and hit enter.  \\n \\n \\n\\n\\n\\nRecommended Articles \\n\\n\\n\\n\\n\\n\\n \\n\\n\\nBlogTips for your Trip from Pune to Amsterdam\\n\\n \\n\\n24/02/202024/02/2020  \\n \\n\\n\\n\\n\\n\\n\\n \\n\\n\\nBlogHow Online Dating Has Become A Sensation Of Finding Love\\n\\n \\n\\n09/11/201909/11/2019  \\n \\n\\n\\n\\n\\n\\n\\n \\n\\n\\nTop RatedWhat is Live Chatting and how it affects our Relationship?\\n\\n \\n\\n09/11/201909/11/2019  \\n \\n\\n\\n \\n\\n\\n\\n\\n\\n© Copyright 2021 PuneFirst. All Rights Reserved. \\n\\n\\nHome\\nAbout us\\nDisclaimer\\nPrivacy Policy\\nSitemap\\nContact Us\\n \\n\\n\\n\\n\\n\\n\\n\\n\\n\\n\\n\\n\\n\\n\\n\\n\\n\\n\\n\\n\\n\\n\\n\\n\\n\\n\\n\\n\\n\\n\\n\\n\\n\\n\\n\\n\\n\\n\\n\\n\\n\\n\\n'"
      ]
     },
     "metadata": {},
     "execution_count": 7
    }
   ],
   "source": []
  },
  {
   "cell_type": "code",
   "execution_count": null,
   "metadata": {},
   "outputs": [],
   "source": []
  }
 ]
}